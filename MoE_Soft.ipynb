{
 "cells": [
  {
   "cell_type": "markdown",
   "metadata": {
    "id": "7g79SMbE6Jtl"
   },
   "source": [
    "Import library"
   ]
  },
  {
   "cell_type": "code",
   "execution_count": 1,
   "metadata": {
    "executionInfo": {
     "elapsed": 19495,
     "status": "ok",
     "timestamp": 1742650235363,
     "user": {
      "displayName": "Phương Lê Huy",
      "userId": "18219861464535664958"
     },
     "user_tz": -420
    },
    "id": "lAXjlU7A6Jtn"
   },
   "outputs": [],
   "source": [
    "import numpy as np\n",
    "import math\n",
    "import torch\n",
    "import torch.nn as nn\n",
    "import matplotlib.pyplot as plt\n",
    "from einops import einsum, rearrange\n",
    "import torchvision\n",
    "import torchvision.transforms as transforms\n",
    "device = torch.device(\"cuda:0\" if torch.cuda.is_available() else \"cpu\")"
   ]
  },
  {
   "cell_type": "markdown",
   "metadata": {
    "id": "zVW3jsCU6Jto"
   },
   "source": [
    "Download training dataset"
   ]
  },
  {
   "cell_type": "code",
   "execution_count": 2,
   "metadata": {
    "colab": {
     "base_uri": "https://localhost:8080/"
    },
    "executionInfo": {
     "elapsed": 6979,
     "status": "ok",
     "timestamp": 1742650242340,
     "user": {
      "displayName": "Phương Lê Huy",
      "userId": "18219861464535664958"
     },
     "user_tz": -420
    },
    "id": "wX1GdGRA6Jto",
    "outputId": "f3fd9ee6-ec78-4d8d-ee1c-ce2ba7bb3596"
   },
   "outputs": [
    {
     "name": "stderr",
     "output_type": "stream",
     "text": [
      "100%|██████████| 26.4M/26.4M [00:02<00:00, 11.7MB/s]\n",
      "100%|██████████| 29.5k/29.5k [00:00<00:00, 202kB/s]\n",
      "100%|██████████| 4.42M/4.42M [00:01<00:00, 3.73MB/s]\n",
      "100%|██████████| 5.15k/5.15k [00:00<00:00, 17.7MB/s]\n",
      "/usr/local/lib/python3.11/dist-packages/torch/utils/data/dataloader.py:624: UserWarning: This DataLoader will create 10 worker processes in total. Our suggested max number of worker in current system is 2, which is smaller than what this DataLoader is going to create. Please be aware that excessive worker creation might get DataLoader running slow or even freeze, lower the worker number to avoid potential slowness/freeze if necessary.\n",
      "  warnings.warn(\n"
     ]
    }
   ],
   "source": [
    "transform = transforms.Compose([transforms.Resize(28), transforms.ToTensor(), transforms.Normalize((0,), (1.0/255.0,))])\n",
    "\n",
    "trainset = torchvision.datasets.FashionMNIST(root='data', train=True, download=True, transform=transform)\n",
    "train_loader = torch.utils.data.DataLoader(trainset, batch_size=1024, num_workers=10, shuffle=True, pin_memory=True, drop_last=True, persistent_workers=True)\n",
    "\n",
    "testset = torchvision.datasets.FashionMNIST(root='data', train=False, download=True, transform=transform)\n",
    "test_loader = torch.utils.data.DataLoader(testset, batch_size=1024, num_workers=10, shuffle=False, pin_memory=True, drop_last=True, persistent_workers=True)"
   ]
  },
  {
   "cell_type": "markdown",
   "metadata": {
    "id": "EM0ra1HJ6Jto"
   },
   "source": [
    "Define MoE Soft"
   ]
  },
  {
   "cell_type": "code",
   "execution_count": null,
   "metadata": {
    "colab": {
     "base_uri": "https://localhost:8080/"
    },
    "executionInfo": {
     "elapsed": 541,
     "status": "ok",
     "timestamp": 1742650242883,
     "user": {
      "displayName": "Phương Lê Huy",
      "userId": "18219861464535664958"
     },
     "user_tz": -420
    },
    "id": "vfqKm-o76Jtp",
    "outputId": "16518aec-8b4d-42eb-8269-4ae692644b3e"
   },
   "outputs": [
    {
     "data": {
      "text/plain": [
       "SoftMoE(\n",
       "  in_features=784, out_features=10, num_experts=10, slots_per_expert=2, \n",
       "  (experts): ModuleList(\n",
       "    (0-9): 10 x Expert(\n",
       "      (linear1): Linear(in_features=784, out_features=256, bias=True)\n",
       "      (linear2): Linear(in_features=256, out_features=256, bias=True)\n",
       "      (linear3): Linear(in_features=256, out_features=10, bias=True)\n",
       "      (GELU): GELU(approximate='none')\n",
       "    )\n",
       "  )\n",
       "  (flatten): Flatten(start_dim=1, end_dim=-1)\n",
       ")"
      ]
     },
     "execution_count": 3,
     "metadata": {},
     "output_type": "execute_result"
    }
   ],
   "source": [
    "class Expert(nn.Module):\n",
    "    def __init__(\n",
    "        self,\n",
    "        in_features: int,\n",
    "        out_features: int,\n",
    "        hidden_dim: int\n",
    "    ):\n",
    "        super().__init__()\n",
    "\n",
    "        self.linear1 = nn.Linear(in_features, hidden_dim)\n",
    "        self.linear2 = nn.Linear(hidden_dim, hidden_dim)\n",
    "        self.linear3 = nn.Linear(hidden_dim, out_features)\n",
    "        self.GELU = nn.GELU()\n",
    "\n",
    "    def forward(self, x):\n",
    "        x = self.linear1(x)\n",
    "        x = self.GELU(x)\n",
    "        x = self.linear2(x)\n",
    "        x = self.GELU(x)\n",
    "        x = self.linear3(x)\n",
    "        return x\n",
    "\n",
    "class SoftMoE(nn.Module):\n",
    "    \"\"\"A PyTorch module for Soft-MoE, as described in the paper:\n",
    "        \"From Sparse to Soft Mixtures of Experts\"\n",
    "        https://arxiv.org/pdf/2308.00951.pdf\n",
    "\n",
    "    einstein notation:\n",
    "    - b: batch size\n",
    "    - m: input sequence length\n",
    "    - d: embedding dimension\n",
    "    - n: num experts\n",
    "    - p: num slots per expert\n",
    "    - (n * p): total number of slots\n",
    "\n",
    "    Args:\n",
    "        embed_dim (int): embedding dimension (d)\n",
    "        num_experts (int): number of experts (n)\n",
    "        slots_per_expert (int): number of slots per expert (p)\n",
    "    \"\"\"\n",
    "\n",
    "    def __init__(\n",
    "        self,\n",
    "        in_features: int,\n",
    "        out_features: int,\n",
    "        num_experts: int,\n",
    "        slots_per_expert: int,\n",
    "        hidden_dim: int\n",
    "    ):\n",
    "        super().__init__()\n",
    "        self.in_features = in_features\n",
    "        self.out_features = out_features\n",
    "        self.num_experts = num_experts\n",
    "        self.slots_per_expert = slots_per_expert\n",
    "\n",
    "        # self.phi (d, n, p)\n",
    "        self.phi = nn.Parameter(\n",
    "            torch.empty(\n",
    "                (in_features, num_experts, slots_per_expert),\n",
    "            )\n",
    "        )\n",
    "        self.experts = nn.ModuleList([\n",
    "            Expert(\n",
    "                in_features=in_features,\n",
    "                hidden_dim=hidden_dim,\n",
    "                out_features=out_features\n",
    "            ) for _ in range(num_experts)\n",
    "        ])\n",
    "\n",
    "        self.reset_parameters()\n",
    "\n",
    "        self.flatten = nn.Flatten()\n",
    "\n",
    "    def reset_parameters(self) -> None:\n",
    "        # NOTE: Copy weight initialization from 'nn.Linear.reset_parameters'\n",
    "        # TODO: Check for initialization strategy from the paper\n",
    "        nn.init.kaiming_uniform_(self.phi, a=math.sqrt(5))\n",
    "\n",
    "    def forward(self, x: torch.tensor) -> torch.tensor:\n",
    "        \"\"\"Forward pass for the Soft-MoE layer, as described in:\n",
    "            https://arxiv.org/pdf/2308.00951.pdf\n",
    "        See: equations (1-3), algorithm 1, and figure 2\n",
    "\n",
    "        einstein notation:\n",
    "        - b: batch size\n",
    "        - m: input sequence length\n",
    "        - d: embedding dimension\n",
    "        - n: num experts\n",
    "        - p: num slots per expert\n",
    "        - (n * p): total number of slots\n",
    "\n",
    "        Args:\n",
    "            x (Tensor): input tensor of shape (b, m, d)\n",
    "\n",
    "        Returns:\n",
    "            Tensor: output tensor of shape (b, m, d)\n",
    "        \"\"\"\n",
    "        x = self.flatten(x)\n",
    "        if x.ndim == 2:\n",
    "          x = x.unsqueeze(1)  # Automatically handle 2D -> 3D\n",
    "\n",
    "        if x.size(-1) != self.in_features:\n",
    "            raise ValueError(\n",
    "                f\"Expected x.size(-1)={x.size(-1)} to match embed_dim={self.in_features}, \"\n",
    "                f\"but got {x.size(-1)}.\"\n",
    "            )\n",
    "        elif x.ndim != 3:\n",
    "            raise ValueError(f\"Expected input to have 3 dimensions, but got {x.ndim}.\")\n",
    "\n",
    "        logits = einsum(x, self.phi, \"b m d, d n p -> b m n p\")\n",
    "\n",
    "        dispatch_weights = logits.softmax(dim=1)  # denoted 'D' in the paper\n",
    "\n",
    "        # NOTE: The 'torch.softmax' function does not support multiple values for the\n",
    "        # 'dim' argument (unlike jax), so we are forced to flatten the last two dimensions.\n",
    "        # Then, we rearrange the Tensor into its original shape.\n",
    "        combine_weights = rearrange(\n",
    "            logits.flatten(start_dim=2).softmax(dim=-1),\n",
    "            \"b m (n p) -> b m n p\",\n",
    "            n=self.num_experts,\n",
    "        )\n",
    "\n",
    "        # NOTE: To save memory, I don't rename the intermediate tensors Y, Ys, Xs.\n",
    "        # Instead, I just overwrite the 'x' variable.  The names from the paper are\n",
    "        # included in a comment for each line below.\n",
    "        x = einsum(x, dispatch_weights, \"b m d, b m n p -> b n p d\")  # Xs\n",
    "\n",
    "        # x: [b, n, p, d] → loop over n\n",
    "        expert_inputs = x.permute(1, 0, 2, 3)  # [n, b, p, d]\n",
    "\n",
    "        expert_outputs = torch.stack([\n",
    "        self.experts[i](expert_inputs[i].reshape(-1, x.size(-1)))  # [b*p, d]\n",
    "        .view(x.size(0), self.slots_per_expert, self.out_features)  # [b, p, d]\n",
    "        for i in range(self.num_experts)\n",
    "        ], dim=1)  # [b, n, p, d]\n",
    "\n",
    "        # print(expert_outputs.shape)  # Ys\n",
    "        x = einsum(expert_outputs, combine_weights, \"b n p d, b m n p -> b m d\")  # Y\n",
    "        return x.squeeze(1) # remove sequence length\n",
    "\n",
    "    def extra_repr(self) -> str:\n",
    "        return (\n",
    "            f\"in_features={self.in_features}, out_features={self.out_features}, \"\n",
    "            f\"num_experts={self.num_experts}, slots_per_expert={self.slots_per_expert}, \"\n",
    "        )\n",
    "\n",
    "moe_model = SoftMoE(hidden_dim=256,\n",
    "                    in_features=28*28,\n",
    "                    out_features=10,\n",
    "                    slots_per_expert=2,\n",
    "                    num_experts=10,\n",
    "                    ).to(device)\n",
    "\n",
    "moe_model"
   ]
  },
  {
   "cell_type": "markdown",
   "metadata": {
    "id": "SC-ODVYF6Jtp"
   },
   "source": [
    "Train"
   ]
  },
  {
   "cell_type": "code",
   "execution_count": 4,
   "metadata": {
    "executionInfo": {
     "elapsed": 11,
     "status": "ok",
     "timestamp": 1742650242898,
     "user": {
      "displayName": "Phương Lê Huy",
      "userId": "18219861464535664958"
     },
     "user_tz": -420
    },
    "id": "iZQBDuZo6Jtq"
   },
   "outputs": [],
   "source": [
    "# Function to compute loss and accuracy for test set\n",
    "def evaluate(model, testloader, criterion):\n",
    "    model.eval()\n",
    "    test_loss = 0.0\n",
    "    correct = 0\n",
    "    total = 0\n",
    "    with torch.no_grad():\n",
    "        for images, labels in testloader:\n",
    "            # Move inputs and labels to the device\n",
    "            images, labels = images.to(device), labels.to(device)\n",
    "\n",
    "            outputs = model(images)\n",
    "            loss = criterion(outputs, labels)\n",
    "            test_loss += loss.item()\n",
    "\n",
    "            _, predicted = torch.max(outputs.data, 1)\n",
    "            total += labels.size(0)\n",
    "            correct += (predicted == labels).sum().item()\n",
    "\n",
    "    accuracy = 100 * correct / total\n",
    "    test_loss = test_loss / len(testloader)\n",
    "    return test_loss, accuracy"
   ]
  },
  {
   "cell_type": "code",
   "execution_count": 5,
   "metadata": {
    "colab": {
     "base_uri": "https://localhost:8080/"
    },
    "executionInfo": {
     "elapsed": 730320,
     "status": "ok",
     "timestamp": 1742650973223,
     "user": {
      "displayName": "Phương Lê Huy",
      "userId": "18219861464535664958"
     },
     "user_tz": -420
    },
    "id": "yUEoXuLD6Jtq",
    "outputId": "ce2d19bb-2658-44f0-c587-2accabe0a1a8"
   },
   "outputs": [
    {
     "name": "stdout",
     "output_type": "stream",
     "text": [
      "MoE Epoch [1/50], Loss: 3.3078, Accuracy: 68.31%, Test Loss: 0.6411, Test Accuracy: 80.08%\n",
      "MoE Epoch [2/50], Loss: 0.4856, Accuracy: 83.24%, Test Loss: 0.5007, Test Accuracy: 82.96%\n",
      "MoE Epoch [3/50], Loss: 0.4114, Accuracy: 85.53%, Test Loss: 0.4585, Test Accuracy: 84.28%\n",
      "MoE Epoch [4/50], Loss: 0.3652, Accuracy: 86.84%, Test Loss: 0.4394, Test Accuracy: 85.37%\n",
      "MoE Epoch [5/50], Loss: 0.3447, Accuracy: 87.46%, Test Loss: 0.4275, Test Accuracy: 85.45%\n",
      "MoE Epoch [6/50], Loss: 0.3192, Accuracy: 88.38%, Test Loss: 0.4044, Test Accuracy: 86.31%\n",
      "MoE Epoch [7/50], Loss: 0.3011, Accuracy: 89.02%, Test Loss: 0.4273, Test Accuracy: 85.96%\n",
      "MoE Epoch [8/50], Loss: 0.2848, Accuracy: 89.55%, Test Loss: 0.4195, Test Accuracy: 86.17%\n",
      "MoE Epoch [9/50], Loss: 0.2829, Accuracy: 89.46%, Test Loss: 0.3930, Test Accuracy: 86.74%\n",
      "MoE Epoch [10/50], Loss: 0.2709, Accuracy: 90.11%, Test Loss: 0.3951, Test Accuracy: 86.78%\n",
      "MoE Epoch [11/50], Loss: 0.2586, Accuracy: 90.49%, Test Loss: 0.3910, Test Accuracy: 87.21%\n",
      "MoE Epoch [12/50], Loss: 0.2769, Accuracy: 90.46%, Test Loss: 0.4159, Test Accuracy: 86.74%\n",
      "MoE Epoch [13/50], Loss: 0.2518, Accuracy: 90.74%, Test Loss: 0.3939, Test Accuracy: 87.08%\n",
      "MoE Epoch [14/50], Loss: 0.2454, Accuracy: 91.03%, Test Loss: 0.3949, Test Accuracy: 87.04%\n",
      "MoE Epoch [15/50], Loss: 0.2307, Accuracy: 91.50%, Test Loss: 0.4216, Test Accuracy: 86.60%\n",
      "MoE Epoch [16/50], Loss: 0.2285, Accuracy: 91.46%, Test Loss: 0.4178, Test Accuracy: 86.43%\n",
      "MoE Epoch [17/50], Loss: 0.2230, Accuracy: 91.69%, Test Loss: 0.3957, Test Accuracy: 87.45%\n",
      "MoE Epoch [18/50], Loss: 0.2221, Accuracy: 91.80%, Test Loss: 0.3978, Test Accuracy: 86.78%\n",
      "MoE Epoch [19/50], Loss: 0.2070, Accuracy: 92.21%, Test Loss: 0.4019, Test Accuracy: 87.28%\n",
      "MoE Epoch [20/50], Loss: 0.2160, Accuracy: 91.97%, Test Loss: 0.4163, Test Accuracy: 87.37%\n",
      "MoE Epoch [21/50], Loss: 0.2055, Accuracy: 92.49%, Test Loss: 0.4111, Test Accuracy: 87.40%\n",
      "MoE Epoch [22/50], Loss: 0.2031, Accuracy: 92.47%, Test Loss: 0.4195, Test Accuracy: 87.10%\n",
      "MoE Epoch [23/50], Loss: 0.2020, Accuracy: 92.45%, Test Loss: 0.4109, Test Accuracy: 87.65%\n",
      "MoE Epoch [24/50], Loss: 0.1917, Accuracy: 93.00%, Test Loss: 0.4190, Test Accuracy: 87.36%\n",
      "MoE Epoch [25/50], Loss: 0.1927, Accuracy: 92.87%, Test Loss: 0.4265, Test Accuracy: 87.00%\n",
      "MoE Epoch [26/50], Loss: 0.1899, Accuracy: 93.16%, Test Loss: 0.4511, Test Accuracy: 87.04%\n",
      "MoE Epoch [27/50], Loss: 0.1960, Accuracy: 92.88%, Test Loss: 0.4289, Test Accuracy: 87.78%\n",
      "MoE Epoch [28/50], Loss: 0.1931, Accuracy: 92.87%, Test Loss: 0.4244, Test Accuracy: 87.54%\n",
      "MoE Epoch [29/50], Loss: 0.1916, Accuracy: 93.06%, Test Loss: 0.4399, Test Accuracy: 87.48%\n",
      "MoE Epoch [30/50], Loss: 0.1900, Accuracy: 93.04%, Test Loss: 0.4383, Test Accuracy: 86.33%\n",
      "MoE Epoch [31/50], Loss: 0.2165, Accuracy: 92.68%, Test Loss: 0.4230, Test Accuracy: 87.87%\n",
      "MoE Epoch [32/50], Loss: 0.1852, Accuracy: 93.43%, Test Loss: 0.3991, Test Accuracy: 88.00%\n",
      "MoE Epoch [33/50], Loss: 0.1894, Accuracy: 93.23%, Test Loss: 0.4275, Test Accuracy: 87.59%\n",
      "MoE Epoch [34/50], Loss: 0.1713, Accuracy: 93.55%, Test Loss: 0.4159, Test Accuracy: 88.11%\n",
      "MoE Epoch [35/50], Loss: 0.1727, Accuracy: 93.53%, Test Loss: 0.4179, Test Accuracy: 87.88%\n",
      "MoE Epoch [36/50], Loss: 0.1638, Accuracy: 93.94%, Test Loss: 0.4228, Test Accuracy: 88.22%\n",
      "MoE Epoch [37/50], Loss: 0.1633, Accuracy: 93.92%, Test Loss: 0.4537, Test Accuracy: 87.36%\n",
      "MoE Epoch [38/50], Loss: 0.1625, Accuracy: 93.92%, Test Loss: 0.4148, Test Accuracy: 88.27%\n",
      "MoE Epoch [39/50], Loss: 0.1632, Accuracy: 93.94%, Test Loss: 0.4056, Test Accuracy: 88.32%\n",
      "MoE Epoch [40/50], Loss: 0.1468, Accuracy: 94.55%, Test Loss: 0.4481, Test Accuracy: 88.18%\n",
      "MoE Epoch [41/50], Loss: 0.1402, Accuracy: 94.78%, Test Loss: 0.4502, Test Accuracy: 87.67%\n",
      "MoE Epoch [42/50], Loss: 0.1419, Accuracy: 94.70%, Test Loss: 0.4584, Test Accuracy: 87.99%\n",
      "MoE Epoch [43/50], Loss: 0.1453, Accuracy: 94.60%, Test Loss: 0.4469, Test Accuracy: 88.34%\n",
      "MoE Epoch [44/50], Loss: 0.1441, Accuracy: 94.57%, Test Loss: 0.4502, Test Accuracy: 87.89%\n",
      "MoE Epoch [45/50], Loss: 0.1384, Accuracy: 94.86%, Test Loss: 0.4355, Test Accuracy: 87.99%\n",
      "MoE Epoch [46/50], Loss: 0.1371, Accuracy: 94.87%, Test Loss: 0.4576, Test Accuracy: 87.75%\n",
      "MoE Epoch [47/50], Loss: 0.1374, Accuracy: 94.82%, Test Loss: 0.4583, Test Accuracy: 88.40%\n",
      "MoE Epoch [48/50], Loss: 0.1364, Accuracy: 94.87%, Test Loss: 0.4518, Test Accuracy: 87.75%\n",
      "MoE Epoch [49/50], Loss: 0.1354, Accuracy: 94.97%, Test Loss: 0.4704, Test Accuracy: 88.09%\n",
      "MoE Epoch [50/50], Loss: 0.1294, Accuracy: 95.19%, Test Loss: 0.4575, Test Accuracy: 88.28%\n"
     ]
    }
   ],
   "source": [
    "criterion = nn.CrossEntropyLoss()\n",
    "optimizer = torch.optim.Adam(moe_model.parameters())\n",
    "max_epoch = 50\n",
    "\n",
    "# list to store metrics for ploting\n",
    "moe_train_losses = []\n",
    "moe_train_accuracies = []\n",
    "moe_test_losses = []\n",
    "moe_test_accuracies = []\n",
    "\n",
    "# training loop\n",
    "for epoch in range(max_epoch):\n",
    "    moe_model.train()\n",
    "    running_loss = 0.0\n",
    "    running_correct = 0\n",
    "    total = 0\n",
    "    for i, (inputs, labels) in enumerate(train_loader, 0):\n",
    "        inputs, labels = inputs.to(device), labels.to(device)\n",
    "        optimizer.zero_grad()\n",
    "        outputs = moe_model(inputs)\n",
    "        loss = criterion(outputs, labels)\n",
    "\n",
    "        _, predicted = torch.max(outputs.data, 1)\n",
    "        total += labels.size(0)\n",
    "        running_correct += (predicted==labels).sum().item()\n",
    "\n",
    "        loss.backward()\n",
    "        optimizer.step()\n",
    "        running_loss += loss.item()\n",
    "\n",
    "    epoch_accuracy = 100 * running_correct / total\n",
    "    epoch_loss = running_loss/(i+1)\n",
    "    test_loss, test_accuracy = evaluate(moe_model, test_loader, criterion)\n",
    "\n",
    "    print(f\"MoE Epoch [{epoch + 1}/{max_epoch}], Loss: {epoch_loss:.4f}, Accuracy: {epoch_accuracy:.2f}%, Test Loss: {test_loss:.4f}, Test Accuracy: {test_accuracy:.2f}%\")\n",
    "\n",
    "    moe_train_losses.append(epoch_loss)\n",
    "    moe_train_accuracies.append(epoch_accuracy)\n",
    "    moe_test_losses.append(test_loss)\n",
    "    moe_test_accuracies.append(test_accuracy)\n"
   ]
  },
  {
   "cell_type": "markdown",
   "metadata": {
    "id": "nHBWSevE6Jtq"
   },
   "source": [
    "Plot comparision"
   ]
  },
  {
   "cell_type": "code",
   "execution_count": 7,
   "metadata": {
    "colab": {
     "base_uri": "https://localhost:8080/",
     "height": 486
    },
    "executionInfo": {
     "elapsed": 500,
     "status": "ok",
     "timestamp": 1742651272362,
     "user": {
      "displayName": "Phương Lê Huy",
      "userId": "18219861464535664958"
     },
     "user_tz": -420
    },
    "id": "qxYgAvLG6Jtr",
    "outputId": "bc7e3849-933c-43f3-8a7c-2a8abf405cbc"
   },
   "outputs": [
    {
     "data": {
      "image/png": "[encoded data removed]",
      "text/plain": [
       "<Figure size 1000x500 with 2 Axes>"
      ]
     },
     "metadata": {},
     "output_type": "display_data"
    },
    {
     "name": "stdout",
     "output_type": "stream",
     "text": [
      "Array values have been successfully written to Soft_MoE_results.txt\n"
     ]
    }
   ],
   "source": [
    "# Plot comparison\n",
    "plt.figure(figsize=(10, 5))\n",
    "\n",
    "plt.subplot(1, 2, 1)\n",
    "plt.plot(moe_train_accuracies, label='MoE Train')\n",
    "plt.plot(moe_test_accuracies, label='MoE Test')\n",
    "plt.title('Accuracy Comparison')\n",
    "plt.legend()\n",
    "\n",
    "plt.subplot(1, 2, 2)\n",
    "plt.plot(moe_train_losses, label='MoE Train')\n",
    "plt.plot(moe_test_losses, label='MoE Test')\n",
    "plt.title('Loss Comparison')\n",
    "plt.legend()\n",
    "\n",
    "plt.show()\n",
    "\n",
    "\n",
    "# Specify the file name\n",
    "file_name = 'Soft_MoE_results.txt'\n",
    "\n",
    "# Open the file in write mode\n",
    "with open(file_name, 'w') as file:\n",
    "    # Write each value to the file, one per line\n",
    "    file.write(f\"Soft_train_accs {moe_train_accuracies}\\n\")\n",
    "    file.write(f\"Soft_test_accs {moe_test_accuracies}\\n\")\n",
    "    file.write(f\"Soft_train_loss {moe_train_losses}\\n\")\n",
    "    file.write(f\"Soft_test_loss {moe_test_losses}\\n\")\n",
    "\n",
    "print(f\"Array values have been successfully written to {file_name}\")"
   ]
  }
 ],
 "metadata": {
  "accelerator": "GPU",
  "colab": {
   "gpuType": "T4",
   "provenance": []
  },
  "kernelspec": {
   "display_name": "Python 3",
   "name": "python3"
  },
  "language_info": {
   "codemirror_mode": {
    "name": "ipython",
    "version": 3
   },
   "file_extension": ".py",
   "mimetype": "text/x-python",
   "name": "python",
   "nbconvert_exporter": "python",
   "pygments_lexer": "ipython3",
   "version": "3.12.3"
  }
 },
 "nbformat": 4,
 "nbformat_minor": 0
}
